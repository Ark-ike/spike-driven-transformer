{
 "cells": [
  {
   "cell_type": "code",
   "execution_count": 1,
   "metadata": {},
   "outputs": [
    {
     "name": "stdout",
     "output_type": "stream",
     "text": [
      "torch.Size([16, 4, 2, 128, 128])\n",
      "torch.Size([4, 10])\n",
      "torch.Size([4, 3, 128, 128])\n",
      "torch.Size([4, 100])\n"
     ]
    }
   ],
   "source": [
    "from model.transformer import SpikingTransformer\n",
    "\n",
    "import torch\n",
    "\n",
    "model = SpikingTransformer()\n",
    "x = torch.randn(16, 4, 2, 128, 128)\n",
    "print(x.shape)\n",
    "y = model(x)\n",
    "print(y.shape)\n",
    "\n",
    "model = SpikingTransformer(time_steps=8, in_channels=3, num_classes=100)\n",
    "x = torch.randn(4, 3, 128, 128)\n",
    "print(x.shape)\n",
    "y = model(x)\n",
    "print(y.shape)"
   ]
  }
 ],
 "metadata": {
  "kernelspec": {
   "display_name": "spikingjelly",
   "language": "python",
   "name": "python3"
  },
  "language_info": {
   "codemirror_mode": {
    "name": "ipython",
    "version": 3
   },
   "file_extension": ".py",
   "mimetype": "text/x-python",
   "name": "python",
   "nbconvert_exporter": "python",
   "pygments_lexer": "ipython3",
   "version": "3.10.13"
  }
 },
 "nbformat": 4,
 "nbformat_minor": 2
}
