{
 "cells": [
  {
   "cell_type": "code",
   "execution_count": 1,
   "metadata": {},
   "outputs": [
    {
     "name": "stdout",
     "output_type": "stream",
     "text": [
      "torch.Size([16, 4, 2, 128, 128])\n",
      "torch.Size([4, 10])\n"
     ]
    }
   ],
   "source": [
    "import torch\n",
    "from spikingjelly.activation_based import functional\n",
    "\n",
    "from model.transformer import SpikingTransformer\n",
    "\n",
    "\n",
    "model = SpikingTransformer()\n",
    "functional.set_step_mode(model, 'm')\n",
    "x = torch.randn(16, 4, 2, 128, 128)\n",
    "print(x.shape)\n",
    "y = model(x)\n",
    "print(y.shape)"
   ]
  },
  {
   "cell_type": "code",
   "execution_count": 4,
   "metadata": {},
   "outputs": [
    {
     "name": "stdout",
     "output_type": "stream",
     "text": [
      "torch.Size([4, 16, 3, 32, 32])\n",
      "torch.Size([16, 10])\n"
     ]
    }
   ],
   "source": [
    "import torch\n",
    "from spikingjelly.activation_based import functional\n",
    "\n",
    "from model.transformer import SpikingTransformer\n",
    "\n",
    "\n",
    "model = SpikingTransformer(in_channels=3, image_size=32, num_classes=10, num_layers=2, num_heads=8, num_channels=512)\n",
    "functional.set_step_mode(model, 'm')\n",
    "x = torch.randn(4, 16, 3, 32, 32)\n",
    "print(x.shape)\n",
    "y = model(x)\n",
    "print(y.shape)"
   ]
  }
 ],
 "metadata": {
  "kernelspec": {
   "display_name": "spikingjelly",
   "language": "python",
   "name": "python3"
  },
  "language_info": {
   "codemirror_mode": {
    "name": "ipython",
    "version": 3
   },
   "file_extension": ".py",
   "mimetype": "text/x-python",
   "name": "python",
   "nbconvert_exporter": "python",
   "pygments_lexer": "ipython3",
   "version": "3.10.13"
  }
 },
 "nbformat": 4,
 "nbformat_minor": 2
}
